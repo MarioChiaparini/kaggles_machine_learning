{
 "cells": [
  {
   "cell_type": "code",
   "execution_count": 7,
   "id": "33fdaf84-7aa5-4c8a-a74a-c5910d256a91",
   "metadata": {},
   "outputs": [
    {
     "ename": "[string \"luarocks install --server=https://luarocks.or...\"]:1: syntax error near 'install'",
     "evalue": "[string \"luarocks install --server=https://luarocks.or...\"]:1: syntax error near 'install'",
     "output_type": "error",
     "traceback": [
      "[string \"luarocks install --server=https://luarocks.or...\"]:1: syntax error near 'install'"
     ]
    }
   ],
   "source": [
    " with --local.\n",
    "\n",
    "\n",
    "luarocks install --server=https://luarocks.org/dev torch-rnn"
   ]
  },
  {
   "cell_type": "code",
   "execution_count": 5,
   "id": "8b981c33-eb18-4d97-a42b-d38fe222259a",
   "metadata": {},
   "outputs": [
    {
     "ename": "[string \"require('nn')\"]:1: module 'nn' not found:\n\tno field package.preload['nn']\n\tno file '/home/ABTLUS/mario.neto/psi4conda/share/lua/5.4/nn.lua'\n\tno file '/home/ABTLUS/mario.neto/psi4conda/share/lua/5.4/nn/init.lua'\n\tno file '/home/ABTLUS/mario.neto/psi4conda/lib/lua/5.4/nn.lua'\n\tno file '/home/ABTLUS/mario.neto/psi4conda/lib/lua/5.4/nn/init.lua'\n\tno file './nn.lua'\n\tno file './nn/init.lua'\n\tno file '/home/ABTLUS/mario.neto/psi4conda/lib/lua/5.4/nn.so'\n\tno file '/home/ABTLUS/mario.neto/psi4conda/lib/lua/5.4/loadall.so'\n\tno file './nn.so'",
     "evalue": "[string \"require('nn')\"]:1: module 'nn' not found:\n\tno field package.preload['nn']\n\tno file '/home/ABTLUS/mario.neto/psi4conda/share/lua/5.4/nn.lua'\n\tno file '/home/ABTLUS/mario.neto/psi4conda/share/lua/5.4/nn/init.lua'\n\tno file '/home/ABTLUS/mario.neto/psi4conda/lib/lua/5.4/nn.lua'\n\tno file '/home/ABTLUS/mario.neto/psi4conda/lib/lua/5.4/nn/init.lua'\n\tno file './nn.lua'\n\tno file './nn/init.lua'\n\tno file '/home/ABTLUS/mario.neto/psi4conda/lib/lua/5.4/nn.so'\n\tno file '/home/ABTLUS/mario.neto/psi4conda/lib/lua/5.4/loadall.so'\n\tno file './nn.so'",
     "output_type": "error",
     "traceback": [
      "[string \"require('nn')\"]:1: module 'nn' not found:\n\tno field package.preload['nn']\n\tno file '/home/ABTLUS/mario.neto/psi4conda/share/lua/5.4/nn.lua'\n\tno file '/home/ABTLUS/mario.neto/psi4conda/share/lua/5.4/nn/init.lua'\n\tno file '/home/ABTLUS/mario.neto/psi4conda/lib/lua/5.4/nn.lua'\n\tno file '/home/ABTLUS/mario.neto/psi4conda/lib/lua/5.4/nn/init.lua'\n\tno file './nn.lua'\n\tno file './nn/init.lua'\n\tno file '/home/ABTLUS/mario.neto/psi4conda/lib/lua/5.4/nn.so'\n\tno file '/home/ABTLUS/mario.neto/psi4conda/lib/lua/5.4/loadall.so'\n\tno file './nn.so'"
     ]
    }
   ],
   "source": [
    "require('nn')"
   ]
  },
  {
   "cell_type": "code",
   "execution_count": null,
   "id": "b7a38f70-5601-4083-974f-e52793154132",
   "metadata": {},
   "outputs": [],
   "source": []
  },
  {
   "cell_type": "code",
   "execution_count": null,
   "id": "7d92ad8b-ec97-41ba-bc76-8d7a6b927ccb",
   "metadata": {},
   "outputs": [],
   "source": []
  }
 ],
 "metadata": {
  "kernelspec": {
   "display_name": "Lua  (XLua)",
   "language": "lua",
   "name": "xlua"
  },
  "language_info": {
   "file_extension": ".lua",
   "mimetype": "text/x-luasrc",
   "name": "lua",
   "version": "14.0.0"
  }
 },
 "nbformat": 4,
 "nbformat_minor": 5
}
