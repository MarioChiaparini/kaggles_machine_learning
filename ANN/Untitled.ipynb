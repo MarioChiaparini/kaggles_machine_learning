{
 "cells": [
  {
   "cell_type": "code",
   "execution_count": 263,
   "id": "bb69173d-3603-4ebb-9eee-b1fe58173ad1",
   "metadata": {},
   "outputs": [],
   "source": [
    "import pandas as pd\n",
    "import numpy as np "
   ]
  },
  {
   "cell_type": "code",
   "execution_count": 264,
   "id": "cd5ab1dc-61af-4ef5-a3c4-90ac72284331",
   "metadata": {},
   "outputs": [],
   "source": [
    "import matplotlib.pyplot as plt"
   ]
  },
  {
   "cell_type": "code",
   "execution_count": 341,
   "id": "44f0ef7a-f661-4f4c-9acc-8b065bf86391",
   "metadata": {},
   "outputs": [],
   "source": [
    "class Ploting:\n",
    "    def __init__(self,data=None,ax=None,fig=None, x=None, y=None):\n",
    "        self.data = data\n",
    "        #self.ax = ax\n",
    "        #self.fig = fig\n",
    "        self.x = x\n",
    "        self.y = y\n",
    "    def ShowSub(self,data,x,y):\n",
    "        fig, ax = plt.subplots(1,figsize=(12,12))\n",
    "        vary = data[y]\n",
    "        varx = data[x]\n",
    "        return plt.show(varx,vary)\n",
    "class Change:\n",
    "    def __init__(self,data=None,value=None,dataframe=None,label=None):\n",
    "        self.data = dataframe\n",
    "        self.label = label\n",
    "        self.value = value\n",
    "    def CHangeValue(self,dataframe,label,value):\n",
    "        self.dataframe = self.dataframe.loc[(self.dataframe[self.label]==self.value)]\n",
    "        "
   ]
  },
  {
   "cell_type": "code",
   "execution_count": 336,
   "id": "356c34ba-2ce7-4955-9b4f-3221f57d9ab0",
   "metadata": {},
   "outputs": [],
   "source": [
    "change = Change()"
   ]
  },
  {
   "cell_type": "code",
   "execution_count": 339,
   "id": "02dcd313-a7f5-41e1-9ef9-ce03dd4ef190",
   "metadata": {},
   "outputs": [
    {
     "ename": "TypeError",
     "evalue": "CHangeValue() takes 3 positional arguments but 4 were given",
     "output_type": "error",
     "traceback": [
      "\u001b[0;31m---------------------------------------------------------------------------\u001b[0m",
      "\u001b[0;31mTypeError\u001b[0m                                 Traceback (most recent call last)",
      "Input \u001b[0;32mIn [339]\u001b[0m, in \u001b[0;36m<cell line: 1>\u001b[0;34m()\u001b[0m\n\u001b[0;32m----> 1\u001b[0m \u001b[43mchange\u001b[49m\u001b[38;5;241;43m.\u001b[39;49m\u001b[43mCHangeValue\u001b[49m\u001b[43m(\u001b[49m\u001b[43mdataframe_1\u001b[49m\u001b[43m,\u001b[49m\u001b[38;5;241;43m1\u001b[39;49m\u001b[43m,\u001b[49m\u001b[38;5;124;43m'\u001b[39;49m\u001b[38;5;124;43mDim1\u001b[39;49m\u001b[38;5;124;43m'\u001b[39;49m\u001b[43m)\u001b[49m\n",
      "\u001b[0;31mTypeError\u001b[0m: CHangeValue() takes 3 positional arguments but 4 were given"
     ]
    }
   ],
   "source": [
    "change.CHangeValue(dataframe_1,1,'Dim1')"
   ]
  },
  {
   "cell_type": "code",
   "execution_count": 418,
   "id": "cb43e7fd-e249-4f11-be7b-728b60d97820",
   "metadata": {},
   "outputs": [],
   "source": [
    "data1 = pd.read_csv(\"/home/ABTLUS/mario.neto/Desktop/scripts/ML_Day/data/WHOregionLifeExpectancyAtBirth.csv\")\n",
    "data2 = pd.read_csv(\"/home/ABTLUS/mario.neto/Desktop/scripts/ML_Day/data/HALeWHOregionLifeExpectancyAtBirth.csv\")"
   ]
  },
  {
   "cell_type": "code",
   "execution_count": 419,
   "id": "3cb93273-8e5b-4123-9557-65ee42cd864f",
   "metadata": {},
   "outputs": [],
   "source": [
    "dataframe_1 = pd.DataFrame(data1)\n",
    "dataframe_2 = pd.DataFrame(data2)"
   ]
  },
  {
   "cell_type": "code",
   "execution_count": 420,
   "id": "e4ba6936-7fa7-430e-a980-590ba7ca1bde",
   "metadata": {},
   "outputs": [
    {
     "data": {
      "text/html": [
       "<div>\n",
       "<style scoped>\n",
       "    .dataframe tbody tr th:only-of-type {\n",
       "        vertical-align: middle;\n",
       "    }\n",
       "\n",
       "    .dataframe tbody tr th {\n",
       "        vertical-align: top;\n",
       "    }\n",
       "\n",
       "    .dataframe thead th {\n",
       "        text-align: right;\n",
       "    }\n",
       "</style>\n",
       "<table border=\"1\" class=\"dataframe\">\n",
       "  <thead>\n",
       "    <tr style=\"text-align: right;\">\n",
       "      <th></th>\n",
       "      <th>Location</th>\n",
       "      <th>Period</th>\n",
       "      <th>Indicator</th>\n",
       "      <th>Dim1</th>\n",
       "      <th>First Tooltip</th>\n",
       "    </tr>\n",
       "  </thead>\n",
       "  <tbody>\n",
       "    <tr>\n",
       "      <th>0</th>\n",
       "      <td>Africa</td>\n",
       "      <td>2019</td>\n",
       "      <td>Life expectancy at birth (years)</td>\n",
       "      <td>Both sexes</td>\n",
       "      <td>64.49</td>\n",
       "    </tr>\n",
       "    <tr>\n",
       "      <th>1</th>\n",
       "      <td>Africa</td>\n",
       "      <td>2019</td>\n",
       "      <td>Life expectancy at birth (years)</td>\n",
       "      <td>Male</td>\n",
       "      <td>62.37</td>\n",
       "    </tr>\n",
       "    <tr>\n",
       "      <th>2</th>\n",
       "      <td>Africa</td>\n",
       "      <td>2019</td>\n",
       "      <td>Life expectancy at birth (years)</td>\n",
       "      <td>Female</td>\n",
       "      <td>66.65</td>\n",
       "    </tr>\n",
       "    <tr>\n",
       "      <th>3</th>\n",
       "      <td>Africa</td>\n",
       "      <td>2015</td>\n",
       "      <td>Life expectancy at birth (years)</td>\n",
       "      <td>Both sexes</td>\n",
       "      <td>62.56</td>\n",
       "    </tr>\n",
       "    <tr>\n",
       "      <th>4</th>\n",
       "      <td>Africa</td>\n",
       "      <td>2015</td>\n",
       "      <td>Life expectancy at birth (years)</td>\n",
       "      <td>Male</td>\n",
       "      <td>60.47</td>\n",
       "    </tr>\n",
       "    <tr>\n",
       "      <th>...</th>\n",
       "      <td>...</td>\n",
       "      <td>...</td>\n",
       "      <td>...</td>\n",
       "      <td>...</td>\n",
       "      <td>...</td>\n",
       "    </tr>\n",
       "    <tr>\n",
       "      <th>67</th>\n",
       "      <td>Western Pacific</td>\n",
       "      <td>2010</td>\n",
       "      <td>Life expectancy at birth (years)</td>\n",
       "      <td>Male</td>\n",
       "      <td>72.52</td>\n",
       "    </tr>\n",
       "    <tr>\n",
       "      <th>68</th>\n",
       "      <td>Western Pacific</td>\n",
       "      <td>2010</td>\n",
       "      <td>Life expectancy at birth (years)</td>\n",
       "      <td>Female</td>\n",
       "      <td>78.75</td>\n",
       "    </tr>\n",
       "    <tr>\n",
       "      <th>69</th>\n",
       "      <td>Western Pacific</td>\n",
       "      <td>2000</td>\n",
       "      <td>Life expectancy at birth (years)</td>\n",
       "      <td>Both sexes</td>\n",
       "      <td>72.42</td>\n",
       "    </tr>\n",
       "    <tr>\n",
       "      <th>70</th>\n",
       "      <td>Western Pacific</td>\n",
       "      <td>2000</td>\n",
       "      <td>Life expectancy at birth (years)</td>\n",
       "      <td>Male</td>\n",
       "      <td>69.80</td>\n",
       "    </tr>\n",
       "    <tr>\n",
       "      <th>71</th>\n",
       "      <td>Western Pacific</td>\n",
       "      <td>2000</td>\n",
       "      <td>Life expectancy at birth (years)</td>\n",
       "      <td>Female</td>\n",
       "      <td>75.33</td>\n",
       "    </tr>\n",
       "  </tbody>\n",
       "</table>\n",
       "<p>72 rows × 5 columns</p>\n",
       "</div>"
      ],
      "text/plain": [
       "           Location  Period                         Indicator        Dim1  \\\n",
       "0            Africa    2019  Life expectancy at birth (years)  Both sexes   \n",
       "1            Africa    2019  Life expectancy at birth (years)        Male   \n",
       "2            Africa    2019  Life expectancy at birth (years)      Female   \n",
       "3            Africa    2015  Life expectancy at birth (years)  Both sexes   \n",
       "4            Africa    2015  Life expectancy at birth (years)        Male   \n",
       "..              ...     ...                               ...         ...   \n",
       "67  Western Pacific    2010  Life expectancy at birth (years)        Male   \n",
       "68  Western Pacific    2010  Life expectancy at birth (years)      Female   \n",
       "69  Western Pacific    2000  Life expectancy at birth (years)  Both sexes   \n",
       "70  Western Pacific    2000  Life expectancy at birth (years)        Male   \n",
       "71  Western Pacific    2000  Life expectancy at birth (years)      Female   \n",
       "\n",
       "    First Tooltip  \n",
       "0           64.49  \n",
       "1           62.37  \n",
       "2           66.65  \n",
       "3           62.56  \n",
       "4           60.47  \n",
       "..            ...  \n",
       "67          72.52  \n",
       "68          78.75  \n",
       "69          72.42  \n",
       "70          69.80  \n",
       "71          75.33  \n",
       "\n",
       "[72 rows x 5 columns]"
      ]
     },
     "execution_count": 420,
     "metadata": {},
     "output_type": "execute_result"
    }
   ],
   "source": [
    "dataframe_1"
   ]
  },
  {
   "cell_type": "code",
   "execution_count": 421,
   "id": "3bc25c34-b504-4d64-a855-6c15cefe3ad8",
   "metadata": {},
   "outputs": [],
   "source": [
    "#urban = dataframe_1.loc[(dataframe_1['Dim1'])=='Urban']"
   ]
  },
  {
   "cell_type": "code",
   "execution_count": 422,
   "id": "96fb2c0a-a038-4fd2-b8aa-98b824b05242",
   "metadata": {},
   "outputs": [
    {
     "data": {
      "text/plain": [
       "numpy.int64"
      ]
     },
     "execution_count": 422,
     "metadata": {},
     "output_type": "execute_result"
    }
   ],
   "source": [
    "type(dataframe_1['Period'][2])"
   ]
  },
  {
   "cell_type": "code",
   "execution_count": 425,
   "id": "4600821b-1e7e-40d4-bfe8-91886b1cd442",
   "metadata": {},
   "outputs": [],
   "source": [
    "#dataframe_1.loc[(dataframe_1['Dim1'])=='Urban'].head() # loc specific data "
   ]
  },
  {
   "cell_type": "code",
   "execution_count": 424,
   "id": "34d1ab63-8793-41a7-93b3-3574ab516e9a",
   "metadata": {},
   "outputs": [],
   "source": [
    "dataframe_1['Dim1'] = dataframe_1['Dim1'].replace(['Male'],1)\n",
    "dataframe_1['Dim1'] = dataframe_1['Dim1'].replace(['Female'],0)\n",
    "dataframe_1['Dim1'] = dataframe_1['Dim1'].replace(['Both sexes'],2)"
   ]
  },
  {
   "cell_type": "code",
   "execution_count": 426,
   "id": "190246e9-8804-4b31-a20c-824c10f4628e",
   "metadata": {},
   "outputs": [],
   "source": [
    "dataframe_2['Dim1'] = dataframe_2['Dim1'].replace(['Male'],1)\n",
    "dataframe_2['Dim1'] = dataframe_2['Dim1'].replace(['Female'],0)\n",
    "dataframe_2['Dim1'] = dataframe_2['Dim1'].replace(['Both sexes'],2)"
   ]
  },
  {
   "cell_type": "code",
   "execution_count": 386,
   "id": "e4ec79c0-a5ef-4993-94aa-ec2d71ba2361",
   "metadata": {},
   "outputs": [],
   "source": [
    "#rural = dataframe_1.loc[(dataframe_1['Period']>=2015) & (dataframe_1['Dim1']==1)]\n",
    "#urban = dataframe_1.loc[(dataframe_1['Period']>=2015) & (dataframe_1['Dim1']==0)]"
   ]
  },
  {
   "cell_type": "code",
   "execution_count": 427,
   "id": "077640cb-59c5-4cd0-a3ee-fa5a5539dcf7",
   "metadata": {},
   "outputs": [],
   "source": [
    "americas1 = dataframe_1.loc[(dataframe_1['Location']) == 'Americas']"
   ]
  },
  {
   "cell_type": "code",
   "execution_count": 428,
   "id": "7d056ac7-f3e3-480a-a1a9-eff0c9d0ca83",
   "metadata": {},
   "outputs": [],
   "source": [
    "americas2 = dataframe_2.loc[(dataframe_2['Location']) == 'Americas']"
   ]
  },
  {
   "cell_type": "code",
   "execution_count": 388,
   "id": "d58061c6-5906-4954-ae3b-58bbc436ad39",
   "metadata": {},
   "outputs": [],
   "source": [
    "#dataframe_1.loc[(dataframe_1['Location']) == 'USA']"
   ]
  },
  {
   "cell_type": "code",
   "execution_count": 429,
   "id": "c359c2cc-c543-4835-bfc6-7cce128a0559",
   "metadata": {},
   "outputs": [],
   "source": [
    "americas1 = americas1.drop('Indicator',axis=1)"
   ]
  },
  {
   "cell_type": "code",
   "execution_count": 430,
   "id": "003d32d8-379b-4ff3-9a66-72bc490e9b4e",
   "metadata": {},
   "outputs": [],
   "source": [
    "americas2 = americas2.drop('Indicator',axis=1)"
   ]
  },
  {
   "cell_type": "code",
   "execution_count": 431,
   "id": "4411c738-dce0-48ad-86b2-e3389434ebdf",
   "metadata": {},
   "outputs": [],
   "source": [
    "americas1['Location'] = americas1['Location'].replace(['Americas'],3)"
   ]
  },
  {
   "cell_type": "code",
   "execution_count": 432,
   "id": "33e14ce3-dfa0-4b88-9193-b372c3b92242",
   "metadata": {},
   "outputs": [],
   "source": [
    "americas2['Location'] = americas2['Location'].replace(['Americas'],3)"
   ]
  },
  {
   "cell_type": "code",
   "execution_count": 433,
   "id": "6cc3e229-41a5-4dc8-a390-76a843eec1ce",
   "metadata": {},
   "outputs": [],
   "source": [
    "africa1 = dataframe_1.loc[(dataframe_1['Location']) == 'Africa']"
   ]
  },
  {
   "cell_type": "code",
   "execution_count": 434,
   "id": "217c7e98-9deb-4293-96d0-b1e82942940f",
   "metadata": {},
   "outputs": [],
   "source": [
    "africa2 = dataframe_2.loc[(dataframe_2['Location']) == 'Africa']"
   ]
  },
  {
   "cell_type": "code",
   "execution_count": 435,
   "id": "1675dd9d-df14-4a79-a0d7-de6e4f0bf81f",
   "metadata": {},
   "outputs": [],
   "source": [
    "africa1 = africa1.drop('Indicator',axis=1)"
   ]
  },
  {
   "cell_type": "code",
   "execution_count": 436,
   "id": "79fd06ea-1007-4e67-a8b1-e307f3a5fa26",
   "metadata": {},
   "outputs": [],
   "source": [
    "africa2 = africa2.drop('Indicator',axis=1)"
   ]
  },
  {
   "cell_type": "code",
   "execution_count": 437,
   "id": "a6eef46e-cbda-4fd5-b98e-2da20c8d01a2",
   "metadata": {},
   "outputs": [],
   "source": [
    "africa1['Location'] = africa1['Location'].replace(['Africa'],4)"
   ]
  },
  {
   "cell_type": "code",
   "execution_count": 438,
   "id": "02582c97-3773-40b6-ad52-97ff9c4c0e19",
   "metadata": {},
   "outputs": [],
   "source": [
    "africa2['Location'] = africa2['Location'].replace(['Africa'],4)"
   ]
  },
  {
   "cell_type": "code",
   "execution_count": 444,
   "id": "ca69252d-9e07-4a0f-a05d-728a3ac8464c",
   "metadata": {},
   "outputs": [
    {
     "data": {
      "text/html": [
       "<div>\n",
       "<style scoped>\n",
       "    .dataframe tbody tr th:only-of-type {\n",
       "        vertical-align: middle;\n",
       "    }\n",
       "\n",
       "    .dataframe tbody tr th {\n",
       "        vertical-align: top;\n",
       "    }\n",
       "\n",
       "    .dataframe thead th {\n",
       "        text-align: right;\n",
       "    }\n",
       "</style>\n",
       "<table border=\"1\" class=\"dataframe\">\n",
       "  <thead>\n",
       "    <tr style=\"text-align: right;\">\n",
       "      <th></th>\n",
       "      <th>Location</th>\n",
       "      <th>Period</th>\n",
       "      <th>Dim1</th>\n",
       "      <th>Hale Expectency</th>\n",
       "      <th>Life expectany</th>\n",
       "      <th>Unnamed: 6</th>\n",
       "      <th>% OF HALE in life expectancy</th>\n",
       "    </tr>\n",
       "  </thead>\n",
       "  <tbody>\n",
       "    <tr>\n",
       "      <th>0</th>\n",
       "      <td>4</td>\n",
       "      <td>2019</td>\n",
       "      <td>2</td>\n",
       "      <td>56.04</td>\n",
       "      <td>64.49</td>\n",
       "      <td>86.897193</td>\n",
       "      <td>87</td>\n",
       "    </tr>\n",
       "    <tr>\n",
       "      <th>1</th>\n",
       "      <td>4</td>\n",
       "      <td>2019</td>\n",
       "      <td>1</td>\n",
       "      <td>55.00</td>\n",
       "      <td>62.37</td>\n",
       "      <td>88.183422</td>\n",
       "      <td>88</td>\n",
       "    </tr>\n",
       "    <tr>\n",
       "      <th>2</th>\n",
       "      <td>4</td>\n",
       "      <td>2019</td>\n",
       "      <td>0</td>\n",
       "      <td>57.09</td>\n",
       "      <td>66.65</td>\n",
       "      <td>85.656414</td>\n",
       "      <td>86</td>\n",
       "    </tr>\n",
       "    <tr>\n",
       "      <th>3</th>\n",
       "      <td>4</td>\n",
       "      <td>2015</td>\n",
       "      <td>2</td>\n",
       "      <td>54.42</td>\n",
       "      <td>62.56</td>\n",
       "      <td>86.988491</td>\n",
       "      <td>87</td>\n",
       "    </tr>\n",
       "    <tr>\n",
       "      <th>4</th>\n",
       "      <td>4</td>\n",
       "      <td>2015</td>\n",
       "      <td>1</td>\n",
       "      <td>53.38</td>\n",
       "      <td>60.47</td>\n",
       "      <td>88.275178</td>\n",
       "      <td>88</td>\n",
       "    </tr>\n",
       "    <tr>\n",
       "      <th>5</th>\n",
       "      <td>4</td>\n",
       "      <td>2015</td>\n",
       "      <td>0</td>\n",
       "      <td>55.47</td>\n",
       "      <td>64.69</td>\n",
       "      <td>85.747411</td>\n",
       "      <td>86</td>\n",
       "    </tr>\n",
       "    <tr>\n",
       "      <th>6</th>\n",
       "      <td>4</td>\n",
       "      <td>2010</td>\n",
       "      <td>2</td>\n",
       "      <td>51.80</td>\n",
       "      <td>59.49</td>\n",
       "      <td>87.073458</td>\n",
       "      <td>87</td>\n",
       "    </tr>\n",
       "    <tr>\n",
       "      <th>7</th>\n",
       "      <td>4</td>\n",
       "      <td>2010</td>\n",
       "      <td>1</td>\n",
       "      <td>50.98</td>\n",
       "      <td>57.69</td>\n",
       "      <td>88.368868</td>\n",
       "      <td>88</td>\n",
       "    </tr>\n",
       "    <tr>\n",
       "      <th>8</th>\n",
       "      <td>4</td>\n",
       "      <td>2010</td>\n",
       "      <td>0</td>\n",
       "      <td>52.63</td>\n",
       "      <td>61.31</td>\n",
       "      <td>85.842440</td>\n",
       "      <td>86</td>\n",
       "    </tr>\n",
       "    <tr>\n",
       "      <th>9</th>\n",
       "      <td>4</td>\n",
       "      <td>2000</td>\n",
       "      <td>2</td>\n",
       "      <td>45.80</td>\n",
       "      <td>52.65</td>\n",
       "      <td>86.989554</td>\n",
       "      <td>87</td>\n",
       "    </tr>\n",
       "    <tr>\n",
       "      <th>10</th>\n",
       "      <td>4</td>\n",
       "      <td>2000</td>\n",
       "      <td>1</td>\n",
       "      <td>45.03</td>\n",
       "      <td>51.06</td>\n",
       "      <td>88.190364</td>\n",
       "      <td>88</td>\n",
       "    </tr>\n",
       "    <tr>\n",
       "      <th>11</th>\n",
       "      <td>4</td>\n",
       "      <td>2000</td>\n",
       "      <td>0</td>\n",
       "      <td>46.62</td>\n",
       "      <td>54.31</td>\n",
       "      <td>85.840545</td>\n",
       "      <td>86</td>\n",
       "    </tr>\n",
       "  </tbody>\n",
       "</table>\n",
       "</div>"
      ],
      "text/plain": [
       "    Location  Period  Dim1  Hale Expectency  Life expectany  Unnamed: 6  \\\n",
       "0          4    2019     2            56.04           64.49   86.897193   \n",
       "1          4    2019     1            55.00           62.37   88.183422   \n",
       "2          4    2019     0            57.09           66.65   85.656414   \n",
       "3          4    2015     2            54.42           62.56   86.988491   \n",
       "4          4    2015     1            53.38           60.47   88.275178   \n",
       "5          4    2015     0            55.47           64.69   85.747411   \n",
       "6          4    2010     2            51.80           59.49   87.073458   \n",
       "7          4    2010     1            50.98           57.69   88.368868   \n",
       "8          4    2010     0            52.63           61.31   85.842440   \n",
       "9          4    2000     2            45.80           52.65   86.989554   \n",
       "10         4    2000     1            45.03           51.06   88.190364   \n",
       "11         4    2000     0            46.62           54.31   85.840545   \n",
       "\n",
       "    % OF HALE in life expectancy  \n",
       "0                             87  \n",
       "1                             88  \n",
       "2                             86  \n",
       "3                             87  \n",
       "4                             88  \n",
       "5                             86  \n",
       "6                             87  \n",
       "7                             88  \n",
       "8                             86  \n",
       "9                             87  \n",
       "10                            88  \n",
       "11                            86  "
      ]
     },
     "execution_count": 444,
     "metadata": {},
     "output_type": "execute_result"
    }
   ],
   "source": [
    "africa2"
   ]
  },
  {
   "cell_type": "code",
   "execution_count": 445,
   "id": "8a83acb4-eef1-48aa-8074-11b57c33bc73",
   "metadata": {},
   "outputs": [],
   "source": [
    "dictdata1 = {'Africa Age':africa1['First Tooltip'].values,\n",
    "                                       'Americas Age':americas1['First Tooltip'].values,\n",
    "                                       'Gender Africa':africa1['Dim1'].values,\n",
    "                                       'Gender Americas':americas1['Dim1'].values }\n",
    "#dictdata2 = {'Africa Age':africa2['First Tooltip'].values,\n",
    "#                                       'Americas Age':americas2['First Tooltip'].values,\n",
    "#                                       'Gender Africa':africa2['Dim1'].values,\n",
    "#                                       'Gender Americas':americas2['Dim1'].values }\n",
    "dataframe_test = pd.DataFrame().from_dict(dictdata1)"
   ]
  },
  {
   "cell_type": "code",
   "execution_count": null,
   "id": "6ba4c492-671b-4e58-99db-80b8077aa3e4",
   "metadata": {},
   "outputs": [],
   "source": []
  },
  {
   "cell_type": "code",
   "execution_count": 446,
   "id": "dc5c8130-401e-4f5a-bb48-d53d6e2e63c7",
   "metadata": {},
   "outputs": [
    {
     "data": {
      "text/html": [
       "<div>\n",
       "<style scoped>\n",
       "    .dataframe tbody tr th:only-of-type {\n",
       "        vertical-align: middle;\n",
       "    }\n",
       "\n",
       "    .dataframe tbody tr th {\n",
       "        vertical-align: top;\n",
       "    }\n",
       "\n",
       "    .dataframe thead th {\n",
       "        text-align: right;\n",
       "    }\n",
       "</style>\n",
       "<table border=\"1\" class=\"dataframe\">\n",
       "  <thead>\n",
       "    <tr style=\"text-align: right;\">\n",
       "      <th></th>\n",
       "      <th>Africa Age</th>\n",
       "      <th>Americas Age</th>\n",
       "      <th>Gender Africa</th>\n",
       "      <th>Gender Americas</th>\n",
       "    </tr>\n",
       "  </thead>\n",
       "  <tbody>\n",
       "    <tr>\n",
       "      <th>0</th>\n",
       "      <td>64.49</td>\n",
       "      <td>77.16</td>\n",
       "      <td>2</td>\n",
       "      <td>2</td>\n",
       "    </tr>\n",
       "    <tr>\n",
       "      <th>1</th>\n",
       "      <td>62.37</td>\n",
       "      <td>74.49</td>\n",
       "      <td>1</td>\n",
       "      <td>1</td>\n",
       "    </tr>\n",
       "    <tr>\n",
       "      <th>2</th>\n",
       "      <td>66.65</td>\n",
       "      <td>79.84</td>\n",
       "      <td>0</td>\n",
       "      <td>0</td>\n",
       "    </tr>\n",
       "    <tr>\n",
       "      <th>3</th>\n",
       "      <td>62.56</td>\n",
       "      <td>76.78</td>\n",
       "      <td>2</td>\n",
       "      <td>2</td>\n",
       "    </tr>\n",
       "    <tr>\n",
       "      <th>4</th>\n",
       "      <td>60.47</td>\n",
       "      <td>74.05</td>\n",
       "      <td>1</td>\n",
       "      <td>1</td>\n",
       "    </tr>\n",
       "    <tr>\n",
       "      <th>5</th>\n",
       "      <td>64.69</td>\n",
       "      <td>79.52</td>\n",
       "      <td>0</td>\n",
       "      <td>0</td>\n",
       "    </tr>\n",
       "    <tr>\n",
       "      <th>6</th>\n",
       "      <td>59.49</td>\n",
       "      <td>75.44</td>\n",
       "      <td>2</td>\n",
       "      <td>2</td>\n",
       "    </tr>\n",
       "    <tr>\n",
       "      <th>7</th>\n",
       "      <td>57.69</td>\n",
       "      <td>72.53</td>\n",
       "      <td>1</td>\n",
       "      <td>1</td>\n",
       "    </tr>\n",
       "    <tr>\n",
       "      <th>8</th>\n",
       "      <td>61.31</td>\n",
       "      <td>78.35</td>\n",
       "      <td>0</td>\n",
       "      <td>0</td>\n",
       "    </tr>\n",
       "    <tr>\n",
       "      <th>9</th>\n",
       "      <td>52.65</td>\n",
       "      <td>74.12</td>\n",
       "      <td>2</td>\n",
       "      <td>2</td>\n",
       "    </tr>\n",
       "    <tr>\n",
       "      <th>10</th>\n",
       "      <td>51.06</td>\n",
       "      <td>71.13</td>\n",
       "      <td>1</td>\n",
       "      <td>1</td>\n",
       "    </tr>\n",
       "    <tr>\n",
       "      <th>11</th>\n",
       "      <td>54.31</td>\n",
       "      <td>77.10</td>\n",
       "      <td>0</td>\n",
       "      <td>0</td>\n",
       "    </tr>\n",
       "  </tbody>\n",
       "</table>\n",
       "</div>"
      ],
      "text/plain": [
       "    Africa Age  Americas Age  Gender Africa  Gender Americas\n",
       "0        64.49         77.16              2                2\n",
       "1        62.37         74.49              1                1\n",
       "2        66.65         79.84              0                0\n",
       "3        62.56         76.78              2                2\n",
       "4        60.47         74.05              1                1\n",
       "5        64.69         79.52              0                0\n",
       "6        59.49         75.44              2                2\n",
       "7        57.69         72.53              1                1\n",
       "8        61.31         78.35              0                0\n",
       "9        52.65         74.12              2                2\n",
       "10       51.06         71.13              1                1\n",
       "11       54.31         77.10              0                0"
      ]
     },
     "execution_count": 446,
     "metadata": {},
     "output_type": "execute_result"
    }
   ],
   "source": [
    "dataframe_test"
   ]
  },
  {
   "cell_type": "code",
   "execution_count": null,
   "id": "ee355e9d-70f3-4b65-b7fd-66dd6baa53e4",
   "metadata": {},
   "outputs": [],
   "source": []
  },
  {
   "cell_type": "code",
   "execution_count": null,
   "id": "89cf479e-b4c6-46b8-8e8c-49726a43d9d6",
   "metadata": {},
   "outputs": [],
   "source": []
  },
  {
   "cell_type": "code",
   "execution_count": null,
   "id": "649ecb8e-a7e7-442c-8a79-47c8408a1791",
   "metadata": {},
   "outputs": [],
   "source": []
  },
  {
   "cell_type": "code",
   "execution_count": null,
   "id": "ea7ddc9d-75e6-4ce8-a093-995faa6ce6ba",
   "metadata": {},
   "outputs": [],
   "source": []
  },
  {
   "cell_type": "code",
   "execution_count": null,
   "id": "127f5bbc-b3f9-4405-8050-643299a3f3a1",
   "metadata": {},
   "outputs": [],
   "source": []
  },
  {
   "cell_type": "code",
   "execution_count": null,
   "id": "3c9dee46-86e8-4524-932b-f323c2271a16",
   "metadata": {},
   "outputs": [],
   "source": []
  },
  {
   "cell_type": "code",
   "execution_count": null,
   "id": "bc6f1a92-ea0d-4132-848c-9fcc15eb340c",
   "metadata": {},
   "outputs": [],
   "source": []
  }
 ],
 "metadata": {
  "kernelspec": {
   "display_name": "Python 3 (ipykernel)",
   "language": "python",
   "name": "python3"
  },
  "language_info": {
   "codemirror_mode": {
    "name": "ipython",
    "version": 3
   },
   "file_extension": ".py",
   "mimetype": "text/x-python",
   "name": "python",
   "nbconvert_exporter": "python",
   "pygments_lexer": "ipython3",
   "version": "3.8.13"
  }
 },
 "nbformat": 4,
 "nbformat_minor": 5
}
